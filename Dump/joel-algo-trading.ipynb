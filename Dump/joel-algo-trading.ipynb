{
 "cells": [
  {
   "cell_type": "markdown",
   "metadata": {},
   "source": [
    "<img src=\"http://imgur.com/1ZcRyrc.png\" style=\"float: left; margin: 20px; height: 55px\">\n",
    "\n",
    "# Algorithmic Trading\n",
    "\n",
    "_Authors: Joel Quek (SG)_"
   ]
  },
  {
   "cell_type": "markdown",
   "metadata": {},
   "source": [
    "https://github.com/topics/trading-algorithms?l=python"
   ]
  },
  {
   "cell_type": "markdown",
   "metadata": {},
   "source": [
    "# 1. Decision Problems in Trading"
   ]
  },
  {
   "cell_type": "markdown",
   "metadata": {},
   "source": [
    "# 2. Algorithm to Reduce Decision Errors"
   ]
  },
  {
   "cell_type": "markdown",
   "metadata": {},
   "source": [
    "# 3. Backtest Algorithm [Using Data Science Models]"
   ]
  },
  {
   "cell_type": "code",
   "execution_count": 1,
   "metadata": {},
   "outputs": [
    {
     "name": "stdout",
     "output_type": "stream",
     "text": [
      "Requirement already satisfied: backtesting in c:\\users\\redoc\\appdata\\local\\programs\\python\\python310\\lib\\site-packages (0.3.3)\n",
      "Requirement already satisfied: numpy>=1.17.0 in c:\\users\\redoc\\appdata\\local\\programs\\python\\python310\\lib\\site-packages (from backtesting) (1.23.1)\n",
      "Requirement already satisfied: pandas!=0.25.0,>=0.25.0 in c:\\users\\redoc\\appdata\\local\\programs\\python\\python310\\lib\\site-packages (from backtesting) (1.4.3)\n",
      "Requirement already satisfied: bokeh>=1.4.0 in c:\\users\\redoc\\appdata\\local\\programs\\python\\python310\\lib\\site-packages (from backtesting) (2.4.3)\n",
      "Requirement already satisfied: pillow>=7.1.0 in c:\\users\\redoc\\appdata\\local\\programs\\python\\python310\\lib\\site-packages (from bokeh>=1.4.0->backtesting) (9.2.0)\n",
      "Requirement already satisfied: Jinja2>=2.9 in c:\\users\\redoc\\appdata\\local\\programs\\python\\python310\\lib\\site-packages (from bokeh>=1.4.0->backtesting) (3.1.2)\n",
      "Requirement already satisfied: typing-extensions>=3.10.0 in c:\\users\\redoc\\appdata\\local\\programs\\python\\python310\\lib\\site-packages (from bokeh>=1.4.0->backtesting) (4.3.0)\n",
      "Requirement already satisfied: packaging>=16.8 in c:\\users\\redoc\\appdata\\local\\programs\\python\\python310\\lib\\site-packages (from bokeh>=1.4.0->backtesting) (21.3)\n",
      "Requirement already satisfied: PyYAML>=3.10 in c:\\users\\redoc\\appdata\\local\\programs\\python\\python310\\lib\\site-packages (from bokeh>=1.4.0->backtesting) (6.0)\n",
      "Requirement already satisfied: tornado>=5.1 in c:\\users\\redoc\\appdata\\local\\programs\\python\\python310\\lib\\site-packages (from bokeh>=1.4.0->backtesting) (6.2)\n",
      "Requirement already satisfied: pytz>=2020.1 in c:\\users\\redoc\\appdata\\local\\programs\\python\\python310\\lib\\site-packages (from pandas!=0.25.0,>=0.25.0->backtesting) (2022.1)\n",
      "Requirement already satisfied: python-dateutil>=2.8.1 in c:\\users\\redoc\\appdata\\local\\programs\\python\\python310\\lib\\site-packages (from pandas!=0.25.0,>=0.25.0->backtesting) (2.8.2)\n",
      "Requirement already satisfied: MarkupSafe>=2.0 in c:\\users\\redoc\\appdata\\local\\programs\\python\\python310\\lib\\site-packages (from Jinja2>=2.9->bokeh>=1.4.0->backtesting) (2.1.1)\n",
      "Requirement already satisfied: pyparsing!=3.0.5,>=2.0.2 in c:\\users\\redoc\\appdata\\local\\programs\\python\\python310\\lib\\site-packages (from packaging>=16.8->bokeh>=1.4.0->backtesting) (3.0.9)\n",
      "Requirement already satisfied: six>=1.5 in c:\\users\\redoc\\appdata\\local\\programs\\python\\python310\\lib\\site-packages (from python-dateutil>=2.8.1->pandas!=0.25.0,>=0.25.0->backtesting) (1.16.0)\n"
     ]
    }
   ],
   "source": [
    "import sys\n",
    "\n",
    "!{sys.executable} -m pip install backtesting\n"
   ]
  },
  {
   "cell_type": "code",
   "execution_count": 3,
   "metadata": {},
   "outputs": [
    {
     "name": "stdout",
     "output_type": "stream",
     "text": [
      "Collecting ta-lib\n",
      "  Downloading TA-Lib-0.4.25.tar.gz (271 kB)\n",
      "     -------------------------------------- 272.0/272.0 kB 8.4 MB/s eta 0:00:00\n",
      "  Installing build dependencies: started\n",
      "  Installing build dependencies: finished with status 'done'\n",
      "  Getting requirements to build wheel: started\n",
      "  Getting requirements to build wheel: finished with status 'done'\n",
      "  Installing backend dependencies: started\n",
      "  Installing backend dependencies: finished with status 'done'\n",
      "  Preparing metadata (pyproject.toml): started\n",
      "  Preparing metadata (pyproject.toml): finished with status 'done'\n",
      "Requirement already satisfied: numpy in c:\\users\\redoc\\appdata\\local\\programs\\python\\python310\\lib\\site-packages (from ta-lib) (1.23.1)\n",
      "Building wheels for collected packages: ta-lib\n",
      "  Building wheel for ta-lib (pyproject.toml): started\n",
      "  Building wheel for ta-lib (pyproject.toml): finished with status 'error'\n",
      "Failed to build ta-lib\n"
     ]
    },
    {
     "name": "stderr",
     "output_type": "stream",
     "text": [
      "  error: subprocess-exited-with-error\n",
      "  \n",
      "  × Building wheel for ta-lib (pyproject.toml) did not run successfully.\n",
      "  │ exit code: 1\n",
      "  ╰─> [20 lines of output]\n",
      "      <string>:77: UserWarning: Cannot find ta-lib library, installation may fail.\n",
      "      running bdist_wheel\n",
      "      running build\n",
      "      running build_py\n",
      "      creating build\n",
      "      creating build\\lib.win-amd64-cpython-310\n",
      "      creating build\\lib.win-amd64-cpython-310\\talib\n",
      "      copying talib\\abstract.py -> build\\lib.win-amd64-cpython-310\\talib\n",
      "      copying talib\\deprecated.py -> build\\lib.win-amd64-cpython-310\\talib\n",
      "      copying talib\\stream.py -> build\\lib.win-amd64-cpython-310\\talib\n",
      "      copying talib\\test_abstract.py -> build\\lib.win-amd64-cpython-310\\talib\n",
      "      copying talib\\test_data.py -> build\\lib.win-amd64-cpython-310\\talib\n",
      "      copying talib\\test_func.py -> build\\lib.win-amd64-cpython-310\\talib\n",
      "      copying talib\\test_pandas.py -> build\\lib.win-amd64-cpython-310\\talib\n",
      "      copying talib\\test_polars.py -> build\\lib.win-amd64-cpython-310\\talib\n",
      "      copying talib\\test_stream.py -> build\\lib.win-amd64-cpython-310\\talib\n",
      "      copying talib\\__init__.py -> build\\lib.win-amd64-cpython-310\\talib\n",
      "      running build_ext\n",
      "      building 'talib._ta_lib' extension\n",
      "      error: Microsoft Visual C++ 14.0 or greater is required. Get it with \"Microsoft C++ Build Tools\": https://visualstudio.microsoft.com/visual-cpp-build-tools/\n",
      "      [end of output]\n",
      "  \n",
      "  note: This error originates from a subprocess, and is likely not a problem with pip.\n",
      "  ERROR: Failed building wheel for ta-lib\n",
      "ERROR: Could not build wheels for ta-lib, which is required to install pyproject.toml-based projects\n"
     ]
    }
   ],
   "source": [
    "!{sys.executable} -m pip install ta-lib\n"
   ]
  },
  {
   "cell_type": "code",
   "execution_count": 2,
   "metadata": {},
   "outputs": [
    {
     "name": "stderr",
     "output_type": "stream",
     "text": [
      "c:\\Users\\redoc\\AppData\\Local\\Programs\\Python\\Python310\\lib\\site-packages\\tqdm\\auto.py:22: TqdmWarning: IProgress not found. Please update jupyter and ipywidgets. See https://ipywidgets.readthedocs.io/en/stable/user_install.html\n",
      "  from .autonotebook import tqdm as notebook_tqdm\n"
     ]
    },
    {
     "data": {
      "text/html": [
       "<div style=\"display: table;\"><div style=\"display: table-row;\"><div style=\"display: table-cell;\"><b title=\"bokeh.models.layouts.Row\">Row</b>(</div><div style=\"display: table-cell;\">id&nbsp;=&nbsp;'1449', <span id=\"2063\" style=\"cursor: pointer;\">&hellip;)</span></div></div><div class=\"2062\" style=\"display: none;\"><div style=\"display: table-cell;\"></div><div style=\"display: table-cell;\">align&nbsp;=&nbsp;'start',</div></div><div class=\"2062\" style=\"display: none;\"><div style=\"display: table-cell;\"></div><div style=\"display: table-cell;\">aspect_ratio&nbsp;=&nbsp;None,</div></div><div class=\"2062\" style=\"display: none;\"><div style=\"display: table-cell;\"></div><div style=\"display: table-cell;\">background&nbsp;=&nbsp;None,</div></div><div class=\"2062\" style=\"display: none;\"><div style=\"display: table-cell;\"></div><div style=\"display: table-cell;\">children&nbsp;=&nbsp;[GridBox(id='1446', ...), ToolbarBox(id='1448', ...)],</div></div><div class=\"2062\" style=\"display: none;\"><div style=\"display: table-cell;\"></div><div style=\"display: table-cell;\">cols&nbsp;=&nbsp;'auto',</div></div><div class=\"2062\" style=\"display: none;\"><div style=\"display: table-cell;\"></div><div style=\"display: table-cell;\">css_classes&nbsp;=&nbsp;[],</div></div><div class=\"2062\" style=\"display: none;\"><div style=\"display: table-cell;\"></div><div style=\"display: table-cell;\">disabled&nbsp;=&nbsp;False,</div></div><div class=\"2062\" style=\"display: none;\"><div style=\"display: table-cell;\"></div><div style=\"display: table-cell;\">height&nbsp;=&nbsp;None,</div></div><div class=\"2062\" style=\"display: none;\"><div style=\"display: table-cell;\"></div><div style=\"display: table-cell;\">height_policy&nbsp;=&nbsp;'auto',</div></div><div class=\"2062\" style=\"display: none;\"><div style=\"display: table-cell;\"></div><div style=\"display: table-cell;\">js_event_callbacks&nbsp;=&nbsp;{},</div></div><div class=\"2062\" style=\"display: none;\"><div style=\"display: table-cell;\"></div><div style=\"display: table-cell;\">js_property_callbacks&nbsp;=&nbsp;{},</div></div><div class=\"2062\" style=\"display: none;\"><div style=\"display: table-cell;\"></div><div style=\"display: table-cell;\">margin&nbsp;=&nbsp;(0, 0, 0, 0),</div></div><div class=\"2062\" style=\"display: none;\"><div style=\"display: table-cell;\"></div><div style=\"display: table-cell;\">max_height&nbsp;=&nbsp;None,</div></div><div class=\"2062\" style=\"display: none;\"><div style=\"display: table-cell;\"></div><div style=\"display: table-cell;\">max_width&nbsp;=&nbsp;None,</div></div><div class=\"2062\" style=\"display: none;\"><div style=\"display: table-cell;\"></div><div style=\"display: table-cell;\">min_height&nbsp;=&nbsp;None,</div></div><div class=\"2062\" style=\"display: none;\"><div style=\"display: table-cell;\"></div><div style=\"display: table-cell;\">min_width&nbsp;=&nbsp;None,</div></div><div class=\"2062\" style=\"display: none;\"><div style=\"display: table-cell;\"></div><div style=\"display: table-cell;\">name&nbsp;=&nbsp;None,</div></div><div class=\"2062\" style=\"display: none;\"><div style=\"display: table-cell;\"></div><div style=\"display: table-cell;\">sizing_mode&nbsp;=&nbsp;'stretch_width',</div></div><div class=\"2062\" style=\"display: none;\"><div style=\"display: table-cell;\"></div><div style=\"display: table-cell;\">spacing&nbsp;=&nbsp;0,</div></div><div class=\"2062\" style=\"display: none;\"><div style=\"display: table-cell;\"></div><div style=\"display: table-cell;\">subscribed_events&nbsp;=&nbsp;[],</div></div><div class=\"2062\" style=\"display: none;\"><div style=\"display: table-cell;\"></div><div style=\"display: table-cell;\">syncable&nbsp;=&nbsp;True,</div></div><div class=\"2062\" style=\"display: none;\"><div style=\"display: table-cell;\"></div><div style=\"display: table-cell;\">tags&nbsp;=&nbsp;[],</div></div><div class=\"2062\" style=\"display: none;\"><div style=\"display: table-cell;\"></div><div style=\"display: table-cell;\">visible&nbsp;=&nbsp;True,</div></div><div class=\"2062\" style=\"display: none;\"><div style=\"display: table-cell;\"></div><div style=\"display: table-cell;\">width&nbsp;=&nbsp;None,</div></div><div class=\"2062\" style=\"display: none;\"><div style=\"display: table-cell;\"></div><div style=\"display: table-cell;\">width_policy&nbsp;=&nbsp;'auto')</div></div></div>\n",
       "<script>\n",
       "(function() {\n",
       "  let expanded = false;\n",
       "  const ellipsis = document.getElementById(\"2063\");\n",
       "  ellipsis.addEventListener(\"click\", function() {\n",
       "    const rows = document.getElementsByClassName(\"2062\");\n",
       "    for (let i = 0; i < rows.length; i++) {\n",
       "      const el = rows[i];\n",
       "      el.style.display = expanded ? \"none\" : \"table-row\";\n",
       "    }\n",
       "    ellipsis.innerHTML = expanded ? \"&hellip;)\" : \"&lsaquo;&lsaquo;&lsaquo;\";\n",
       "    expanded = !expanded;\n",
       "  });\n",
       "})();\n",
       "</script>\n"
      ],
      "text/plain": [
       "Row(id='1449', ...)"
      ]
     },
     "execution_count": 2,
     "metadata": {},
     "output_type": "execute_result"
    }
   ],
   "source": [
    "from backtesting import Backtest, Strategy\n",
    "from backtesting.lib import crossover\n",
    "\n",
    "from backtesting.test import SMA, GOOG\n",
    "\n",
    "\n",
    "class SmaCross(Strategy):\n",
    "    def init(self):\n",
    "        price = self.data.Close\n",
    "        self.ma1 = self.I(SMA, price, 10)\n",
    "        self.ma2 = self.I(SMA, price, 20)\n",
    "\n",
    "    def next(self):\n",
    "        if crossover(self.ma1, self.ma2):\n",
    "            self.buy()\n",
    "        elif crossover(self.ma2, self.ma1):\n",
    "            self.sell()\n",
    "\n",
    "\n",
    "bt = Backtest(GOOG, SmaCross, commission=.002,\n",
    "              exclusive_orders=True)\n",
    "stats = bt.run()\n",
    "bt.plot()"
   ]
  }
 ],
 "metadata": {
  "kernelspec": {
   "display_name": "Python 3.10.5 64-bit",
   "language": "python",
   "name": "python3"
  },
  "language_info": {
   "codemirror_mode": {
    "name": "ipython",
    "version": 3
   },
   "file_extension": ".py",
   "mimetype": "text/x-python",
   "name": "python",
   "nbconvert_exporter": "python",
   "pygments_lexer": "ipython3",
   "version": "3.10.5"
  },
  "orig_nbformat": 4,
  "vscode": {
   "interpreter": {
    "hash": "f1131d84b9e97d700f196cec3f143c1c5ca4787d89ba01101505d30befb8a4c0"
   }
  }
 },
 "nbformat": 4,
 "nbformat_minor": 2
}
